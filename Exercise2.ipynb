{
 "cells": [
  {
   "cell_type": "markdown",
   "metadata": {},
   "source": [
    "#### Import and load data"
   ]
  },
  {
   "cell_type": "code",
   "execution_count": 71,
   "metadata": {},
   "outputs": [],
   "source": [
    "import pandas as pd\n",
    "import math"
   ]
  },
  {
   "cell_type": "code",
   "execution_count": 2,
   "metadata": {},
   "outputs": [
    {
     "data": {
      "text/html": [
       "<div>\n",
       "<style scoped>\n",
       "    .dataframe tbody tr th:only-of-type {\n",
       "        vertical-align: middle;\n",
       "    }\n",
       "\n",
       "    .dataframe tbody tr th {\n",
       "        vertical-align: top;\n",
       "    }\n",
       "\n",
       "    .dataframe thead th {\n",
       "        text-align: right;\n",
       "    }\n",
       "</style>\n",
       "<table border=\"1\" class=\"dataframe\">\n",
       "  <thead>\n",
       "    <tr style=\"text-align: right;\">\n",
       "      <th></th>\n",
       "      <th>Salary</th>\n",
       "      <th>Working Time</th>\n",
       "      <th>Loan Decision</th>\n",
       "    </tr>\n",
       "  </thead>\n",
       "  <tbody>\n",
       "    <tr>\n",
       "      <th>0</th>\n",
       "      <td>10</td>\n",
       "      <td>1.0</td>\n",
       "      <td>1</td>\n",
       "    </tr>\n",
       "    <tr>\n",
       "      <th>1</th>\n",
       "      <td>5</td>\n",
       "      <td>2.0</td>\n",
       "      <td>1</td>\n",
       "    </tr>\n",
       "    <tr>\n",
       "      <th>2</th>\n",
       "      <td>6</td>\n",
       "      <td>1.8</td>\n",
       "      <td>1</td>\n",
       "    </tr>\n",
       "    <tr>\n",
       "      <th>3</th>\n",
       "      <td>7</td>\n",
       "      <td>1.0</td>\n",
       "      <td>1</td>\n",
       "    </tr>\n",
       "    <tr>\n",
       "      <th>4</th>\n",
       "      <td>8</td>\n",
       "      <td>2.0</td>\n",
       "      <td>1</td>\n",
       "    </tr>\n",
       "  </tbody>\n",
       "</table>\n",
       "</div>"
      ],
      "text/plain": [
       "   Salary  Working Time  Loan Decision\n",
       "0      10           1.0              1\n",
       "1       5           2.0              1\n",
       "2       6           1.8              1\n",
       "3       7           1.0              1\n",
       "4       8           2.0              1"
      ]
     },
     "execution_count": 2,
     "metadata": {},
     "output_type": "execute_result"
    }
   ],
   "source": [
    "df = pd.read_csv(\"Data_Exercise2.csv\")\n",
    "df.head()"
   ]
  },
  {
   "cell_type": "code",
   "execution_count": 81,
   "metadata": {},
   "outputs": [],
   "source": [
    "x_train = df.drop('Loan Decision', axis='columns').values.tolist()\n",
    "y_train = df['Loan Decision'].tolist()"
   ]
  },
  {
   "cell_type": "markdown",
   "metadata": {},
   "source": [
    "#### My Logistic Function"
   ]
  },
  {
   "cell_type": "code",
   "execution_count": 96,
   "metadata": {},
   "outputs": [],
   "source": [
    "class LogisticRegression:\n",
    "    def __init__(self):\n",
    "        self.__feature_number = 0\n",
    "        self.loss_ = 0\n",
    "        self.grad_desc:list[float] = []\n",
    "        self.weights:list[float] = []\n",
    "        self.__y_hat:list[float] = []\n",
    "        self.accuracy_ = 0\n",
    "\n",
    "    def __init_value(self) -> list[float]:\n",
    "        \"\"\"Initialize a list of 0 that match the number of features\"\"\"\n",
    "        new_ = []\n",
    "        for i in range(self.__feature_number):\n",
    "            new_.append(0)\n",
    "        return new_\n",
    "\n",
    "    def pad_one(self,x:list[list[float]]) -> list[list[float]]:\n",
    "        \"\"\"Add a column of 1\"\"\"\n",
    "        x_ = []\n",
    "        \n",
    "        for i in range(len(x)):\n",
    "            x_.append([])\n",
    "            for j in range(len(x[0])):\n",
    "                x_[i].append(x[i][j])\n",
    "            x_[i].append(1)\n",
    "\n",
    "        return x_\n",
    "\n",
    "    def __sigmoid(self, x:list[float]) -> float:\n",
    "        theta_x = 0\n",
    "\n",
    "        for i in range(self.__feature_number):\n",
    "            theta_x += self.weights[i]*x[i]\n",
    "        \n",
    "        return 1 / (1 + math.exp(-theta_x))\n",
    "\n",
    "    def forward(self, x:list[float]):\n",
    "        self.__y_hat = []\n",
    "        \n",
    "        for i in range(len(x)):\n",
    "            self.__y_hat.append(self.__sigmoid(x[i]))\n",
    "        \n",
    "        return self.__y_hat\n",
    "\n",
    "    def loss(self, x:list[float], Y:list[float]):\n",
    "        m = len(x)\n",
    "        l = 0\n",
    "        \n",
    "        for i in range(m):\n",
    "            if Y[i] == 0:\n",
    "                l += -math.log(1 - self.__y_hat[i], math.e)\n",
    "            else:\n",
    "                l += -math.log(self.__y_hat[i], math.e)\n",
    "        \n",
    "        self.loss_ = l/m\n",
    "\n",
    "    def backward(self, x:list[list[float]], Y:list[float], lr:float):\n",
    "        m = len(x)\n",
    "\n",
    "        for i in range(m):\n",
    "            for f in range(self.__feature_number):\n",
    "                self.grad_desc[f] += (self.__y_hat[i] - Y[i]) * x[i][f]\n",
    "        \n",
    "        for i in range(self.__feature_number):\n",
    "            self.weights[i] -= lr * self.grad_desc[i]/m\n",
    "\n",
    "    def reset_grad(self):\n",
    "        self.grad_desc = self.__init_value()\n",
    "\n",
    "    def fit(self, x:list[float], Y:list[float], epochs=100, lr=0.01, pad_=True, print_log = False):\n",
    "        if pad_:\n",
    "            x = self.pad_one(x)\n",
    "\n",
    "        self.__feature_number = len(x[0])\n",
    "        self.weights = self.__init_value()\n",
    "        self.grad_desc = self.__init_value()\n",
    "        \n",
    "        for epoch in range(epochs):\n",
    "            self.forward(x)\n",
    "            self.loss(x, Y)\n",
    "            self.backward(x, Y, lr)\n",
    "            self.reset_grad()\n",
    "            \n",
    "            if epoch%10 == 0 and print_log:\n",
    "                print(f'{epoch}: {self.loss_}, {self.weights}')\n",
    "\n",
    "    def predict(self, x:float|list[float]) -> float|list[float]:\n",
    "        if isinstance(x, list):\n",
    "            x = self.pad_one(x)\n",
    "            return self.forward(x)\n",
    "        \n",
    "        raise TypeError\n",
    "    \n",
    "    def accuracy(self, x:list[float], Y:list[float]):\n",
    "        try:\n",
    "            yh = self.predict(x)\n",
    "        except TypeError:\n",
    "            print(\"Input must be a list, got a single value\")\n",
    "            return \n",
    "        \n",
    "        true_pred = 0.0\n",
    "        \n",
    "        for i, value in enumerate(yh):\n",
    "            if round(value) == Y[i]:\n",
    "                true_pred += 1\n",
    "        \n",
    "        self.accuracy_ = round((true_pred / len(x))*100,2)"
   ]
  },
  {
   "cell_type": "code",
   "execution_count": 98,
   "metadata": {},
   "outputs": [],
   "source": [
    "LR = LogisticRegression()"
   ]
  },
  {
   "cell_type": "code",
   "execution_count": 99,
   "metadata": {},
   "outputs": [
    {
     "data": {
      "text/plain": [
       "95.0"
      ]
     },
     "execution_count": 99,
     "metadata": {},
     "output_type": "execute_result"
    }
   ],
   "source": [
    "LR.fit(x_train, y_train, epochs=1000, lr=0.1, pad_=True, print_log=False)\n",
    "LR.accuracy(x_train, y_train)\n",
    "LR.accuracy_"
   ]
  }
 ],
 "metadata": {
  "kernelspec": {
   "display_name": "Python 3",
   "language": "python",
   "name": "python3"
  },
  "language_info": {
   "codemirror_mode": {
    "name": "ipython",
    "version": 3
   },
   "file_extension": ".py",
   "mimetype": "text/x-python",
   "name": "python",
   "nbconvert_exporter": "python",
   "pygments_lexer": "ipython3",
   "version": "3.11.1"
  }
 },
 "nbformat": 4,
 "nbformat_minor": 2
}
