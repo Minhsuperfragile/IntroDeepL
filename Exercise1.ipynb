{
 "cells": [
  {
   "cell_type": "markdown",
   "metadata": {},
   "source": [
    "# Import and load dataset"
   ]
  },
  {
   "cell_type": "code",
   "execution_count": 1,
   "metadata": {},
   "outputs": [],
   "source": [
    "import pandas as pd\n",
    "import numpy as np\n",
    "import matplotlib.pyplot as plt\n",
    "from sklearn.preprocessing import StandardScaler"
   ]
  },
  {
   "cell_type": "code",
   "execution_count": 2,
   "metadata": {},
   "outputs": [
    {
     "data": {
      "text/html": [
       "<div>\n",
       "<style scoped>\n",
       "    .dataframe tbody tr th:only-of-type {\n",
       "        vertical-align: middle;\n",
       "    }\n",
       "\n",
       "    .dataframe tbody tr th {\n",
       "        vertical-align: top;\n",
       "    }\n",
       "\n",
       "    .dataframe thead th {\n",
       "        text-align: right;\n",
       "    }\n",
       "</style>\n",
       "<table border=\"1\" class=\"dataframe\">\n",
       "  <thead>\n",
       "    <tr style=\"text-align: right;\">\n",
       "      <th></th>\n",
       "      <th>Square</th>\n",
       "      <th>Price</th>\n",
       "    </tr>\n",
       "  </thead>\n",
       "  <tbody>\n",
       "    <tr>\n",
       "      <th>0</th>\n",
       "      <td>30.0000</td>\n",
       "      <td>448.524</td>\n",
       "    </tr>\n",
       "    <tr>\n",
       "      <th>1</th>\n",
       "      <td>32.4138</td>\n",
       "      <td>509.248</td>\n",
       "    </tr>\n",
       "    <tr>\n",
       "      <th>2</th>\n",
       "      <td>34.8276</td>\n",
       "      <td>535.104</td>\n",
       "    </tr>\n",
       "    <tr>\n",
       "      <th>3</th>\n",
       "      <td>37.2414</td>\n",
       "      <td>551.432</td>\n",
       "    </tr>\n",
       "    <tr>\n",
       "      <th>4</th>\n",
       "      <td>39.6552</td>\n",
       "      <td>623.418</td>\n",
       "    </tr>\n",
       "  </tbody>\n",
       "</table>\n",
       "</div>"
      ],
      "text/plain": [
       "    Square    Price\n",
       "0  30.0000  448.524\n",
       "1  32.4138  509.248\n",
       "2  34.8276  535.104\n",
       "3  37.2414  551.432\n",
       "4  39.6552  623.418"
      ]
     },
     "execution_count": 2,
     "metadata": {},
     "output_type": "execute_result"
    }
   ],
   "source": [
    "df = pd.read_csv(\"Data_Exercise1.csv\")\n",
    "df.head()"
   ]
  },
  {
   "cell_type": "code",
   "execution_count": 3,
   "metadata": {},
   "outputs": [],
   "source": [
    "x_train = df['Square'].to_numpy().reshape(-1, 1)\n",
    "y_train = df['Price'].to_numpy().reshape(-1, 1)"
   ]
  },
  {
   "cell_type": "code",
   "execution_count": 4,
   "metadata": {},
   "outputs": [],
   "source": [
    "ss = StandardScaler()\n",
    "x_train = ss.fit_transform(x_train)\n",
    "y_train = ss.fit_transform(y_train)"
   ]
  },
  {
   "cell_type": "code",
   "execution_count": 5,
   "metadata": {},
   "outputs": [],
   "source": [
    "use_pytorch = False\n",
    "if not use_pytorch:\n",
    "    x_train = x_train.reshape(-1).tolist()\n",
    "    y_train = y_train.reshape(-1).tolist()"
   ]
  },
  {
   "cell_type": "markdown",
   "metadata": {},
   "source": [
    "# Pytorch model"
   ]
  },
  {
   "cell_type": "code",
   "execution_count": null,
   "metadata": {},
   "outputs": [],
   "source": [
    "import torch"
   ]
  },
  {
   "cell_type": "code",
   "execution_count": 13,
   "metadata": {},
   "outputs": [],
   "source": [
    "class LinearModel(torch.nn.Module):\n",
    "    def __init__(self, inputsize, outputsize) -> None:\n",
    "        super(LinearModel, self).__init__()\n",
    "        self.linear = torch.nn.Linear(inputsize, outputsize)\n",
    "\n",
    "    def forward(self, x):\n",
    "        out = self.linear(x)\n",
    "        return out"
   ]
  },
  {
   "cell_type": "code",
   "execution_count": 40,
   "metadata": {},
   "outputs": [],
   "source": [
    "inputDim = 1         \n",
    "outputDim = 1       \n",
    "learningRate = 0.01 \n",
    "epochs = 100\n",
    "\n",
    "model = LinearModel(inputDim, outputDim)\n",
    "##### For GPU #######\n",
    "if torch.cuda.is_available():\n",
    "    model.cuda()\n",
    "\n",
    "criterion = torch.nn.MSELoss() \n",
    "optimizer = torch.optim.SGD(model.parameters(), lr=learningRate)"
   ]
  },
  {
   "cell_type": "code",
   "execution_count": 55,
   "metadata": {},
   "outputs": [
    {
     "name": "stdout",
     "output_type": "stream",
     "text": [
      "epoch 0, loss 0.00979458075016737\n",
      "epoch 1, loss 0.009503175504505634\n",
      "epoch 2, loss 0.009223311208188534\n",
      "epoch 3, loss 0.008954531513154507\n",
      "epoch 4, loss 0.008696393109858036\n",
      "epoch 5, loss 0.008448483422398567\n",
      "epoch 6, loss 0.008210387080907822\n",
      "epoch 7, loss 0.007981723174452782\n",
      "epoch 8, loss 0.007762107066810131\n",
      "epoch 9, loss 0.007551195565611124\n"
     ]
    }
   ],
   "source": [
    "for epoch in range(epochs):\n",
    "    # Converting inputs and labels to Variable\n",
    "    if torch.cuda.is_available():\n",
    "        inputs = torch.from_numpy(x_train).to(torch.float32).cuda()\n",
    "        labels = torch.from_numpy(y_train).to(torch.float32).cuda()\n",
    "    else:\n",
    "        inputs = torch.from_numpy(x_train).to(torch.float32)\n",
    "        labels = torch.from_numpy(y_train).to(torch.float32)\n",
    "\n",
    "    # Clear gradient buffers because we don't want any gradient from previous epoch to carry forward, dont want to cummulate gradients\n",
    "    optimizer.zero_grad()\n",
    "\n",
    "    # get output from the model, given the inputs\n",
    "    outputs = model(inputs)\n",
    "\n",
    "    # get loss for the predicted output\n",
    "    loss = criterion(outputs, labels)\n",
    "    \n",
    "    # get gradients w.r.t to parameters\n",
    "    loss.backward()\n",
    "\n",
    "    # update parameters\n",
    "    optimizer.step()\n",
    "\n",
    "    print('epoch {}, loss {}'.format(epoch, loss.item()))"
   ]
  },
  {
   "cell_type": "code",
   "execution_count": 58,
   "metadata": {},
   "outputs": [
    {
     "data": {
      "image/png": "[encoded data removed]",
      "text/plain": [
       "<Figure size 640x480 with 1 Axes>"
      ]
     },
     "metadata": {},
     "output_type": "display_data"
    }
   ],
   "source": [
    "with torch.no_grad(): # we don't need gradients in the testing phase\n",
    "    if torch.cuda.is_available():\n",
    "        predicted = model(torch.from_numpy(x_train).to(torch.float32).cuda()).cpu().data.numpy()\n",
    "    else:\n",
    "        predicted = model(torch.from_numpy(x_train).to(torch.float32)).data.numpy()\n",
    "\n",
    "plt.clf()\n",
    "plt.plot(x_train, y_train, 'go', label='True data', alpha=0.5)\n",
    "plt.plot(x_train, predicted, '--', label='Predictions', alpha=0.5)\n",
    "plt.legend(loc='best')\n",
    "plt.show()"
   ]
  },
  {
   "cell_type": "markdown",
   "metadata": {},
   "source": [
    "# My Own Model"
   ]
  },
  {
   "cell_type": "code",
   "execution_count": 8,
   "metadata": {},
   "outputs": [],
   "source": [
    "def Forward(x:list[float], w:list[float]) -> list[float]:\n",
    "    \"\"\"Give prediction\"\"\"\n",
    "    y_pred = []\n",
    "\n",
    "    for i in range(len(x)):\n",
    "        y_hat = x[i]*w[0] + w[1]\n",
    "        y_pred.append(y_hat)\n",
    "\n",
    "    return y_pred\n",
    "\n",
    "def Loss(x:list[float], Y:list[float], w:list[float]) -> float:\n",
    "    \"\"\"Calculate loss\"\"\"\n",
    "    loss = 0\n",
    "\n",
    "    for i, y_hat in enumerate(Forward(x,w)):\n",
    "        loss += (Y[i]-y_hat)**2\n",
    "    \n",
    "    return loss / (2*len(x))\n",
    "\n",
    "def Backward(x:list[float], Y:list[float], w:list[float], lr=0.01) -> list[float]:\n",
    "    \"\"\"Return updated weights\"\"\"\n",
    "    y_pred = Forward(x,w)\n",
    "\n",
    "    # update w0 (slope), w1 (intercept)\n",
    "    grad0 = grad1 = 0\n",
    "\n",
    "    for i, y_hat in enumerate(y_pred):\n",
    "        grad0 += (Y[i] - y_hat)*-x[i]\n",
    "        grad1 += (Y[i] - y_hat)\n",
    "    \n",
    "    w[0] -= lr * grad0 / len(x)\n",
    "    w[1] -= lr * grad1 / len(x)\n",
    "\n",
    "    return w"
   ]
  },
  {
   "cell_type": "code",
   "execution_count": 66,
   "metadata": {},
   "outputs": [],
   "source": [
    "weights = [0,0]\n",
    "epochs = 500 "
   ]
  },
  {
   "cell_type": "code",
   "execution_count": 67,
   "metadata": {},
   "outputs": [
    {
     "name": "stdout",
     "output_type": "stream",
     "text": [
      "1: 1.9999999999999996, 0.00998781277915114 | 1.4802973661668755e-18 \n",
      "51: 0.7351533208502022, 0.40055523236190815 | 1.800781745942004e-16 \n",
      "101: 0.27217852952933247, 0.6368508908357282 | 6.039613253960852e-16 \n",
      "151: 0.10271478271166976, 0.7798111978506486 | 1.384522126575879e-15 \n",
      "201: 0.04068557070306699, 0.8663030509545203 | 2.7179739940189993e-15 \n",
      "251: 0.017980873004224504, 0.9186311468403315 | 4.9405294670161004e-15 \n",
      "301: 0.009670219347616341, 0.9502899623330021 | 8.61385037372505e-15 \n",
      "351: 0.006628251332177202, 0.9694437377844551 | 1.466417727987353e-14 \n",
      "401: 0.005514792657407728, 0.9810318881411743 | 2.4619491630536074e-14 \n",
      "451: 0.005107230771770859, 0.9880427894138916 | 4.100038826967041e-14 \n"
     ]
    }
   ],
   "source": [
    "for epoch in range(epochs):\n",
    "    #loss\n",
    "    l = Loss(x_train, y_train, weights)\n",
    "    #new weights\n",
    "    weights = Backward(x_train,y_train, weights)\n",
    "    if epoch%50 == 0:\n",
    "        print(f'{epoch+1}: {l}, {weights[0]} | {weights[1]} ')"
   ]
  },
  {
   "cell_type": "code",
   "execution_count": 68,
   "metadata": {},
   "outputs": [
    {
     "data": {
      "image/png": "[encoded data removed]",
      "text/plain": [
       "<Figure size 640x480 with 1 Axes>"
      ]
     },
     "metadata": {},
     "output_type": "display_data"
    }
   ],
   "source": [
    "def abline(slope, intercept):\n",
    "    \"\"\"Plot a line from slope and intercept\"\"\"\n",
    "    axes = plt.gca()\n",
    "    x_vals = np.array(axes.get_xlim())\n",
    "    y_vals = intercept + slope * x_vals\n",
    "    plt.plot(x_vals, y_vals, '--')\n",
    "\n",
    "plt.plot(x_train, y_train, \"bo\")\n",
    "abline(weights[0], weights[1])\n",
    "plt.show()"
   ]
  },
  {
   "cell_type": "code",
   "execution_count": 69,
   "metadata": {},
   "outputs": [
    {
     "data": {
      "text/plain": [
       "[11.906625629585964]"
      ]
     },
     "execution_count": 69,
     "metadata": {},
     "output_type": "execute_result"
    }
   ],
   "source": [
    "#give prediction\n",
    "Forward([12], weights)"
   ]
  }
 ],
 "metadata": {
  "kernelspec": {
   "display_name": "Python 3",
   "language": "python",
   "name": "python3"
  },
  "language_info": {
   "codemirror_mode": {
    "name": "ipython",
    "version": 3
   },
   "file_extension": ".py",
   "mimetype": "text/x-python",
   "name": "python",
   "nbconvert_exporter": "python",
   "pygments_lexer": "ipython3",
   "version": "3.11.1"
  }
 },
 "nbformat": 4,
 "nbformat_minor": 2
}
